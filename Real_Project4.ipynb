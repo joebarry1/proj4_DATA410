{
  "nbformat": 4,
  "nbformat_minor": 0,
  "metadata": {
    "colab": {
      "name": "Real Project4.ipynb",
      "provenance": []
    },
    "kernelspec": {
      "name": "python3",
      "display_name": "Python 3"
    },
    "language_info": {
      "name": "python"
    }
  },
  "cells": [
    {
      "cell_type": "markdown",
      "source": [
        "# Multiple Boosting Algorithm Testing\n",
        "\n",
        "In class and the previous assignment, we covered the process of boosted regression algorithms. In this assignment, we will look into more of a variety of regression methods to use as the $f$ and $h$ in a boosted algorithm. The specific methods we will use are Ordinary Least Squares (OLS), Neural Net (NN), and Random Forest (RF). I will use each permutation of these algorithms to determine which combination leads to the most effective boosted algorithm (based on mean squared error).\n",
        "\n",
        "First, we will import some essential libraries for our analysis."
      ],
      "metadata": {
        "id": "BEumZOAcbDJm"
      }
    },
    {
      "cell_type": "code",
      "source": [
        "import pandas as pd\n",
        "import numpy as np\n",
        "from sklearn.linear_model import LinearRegression\n",
        "from sklearn.ensemble import RandomForestRegressor\n",
        "\n",
        "import keras\n",
        "from keras.models import Sequential\n",
        "from keras.layers import Dense\n",
        "from keras.layers import Dropout\n",
        "from sklearn.metrics import r2_score\n",
        "from tensorflow.keras.optimizers import Adam\n",
        "\n",
        "from scipy.linalg import lstsq\n",
        "from scipy.sparse.linalg import lsmr\n",
        "import matplotlib.pyplot as plt\n",
        "from scipy.interpolate import interp1d, griddata, LinearNDInterpolator, NearestNDInterpolator\n",
        "from sklearn.ensemble import RandomForestRegressor\n",
        "from sklearn.model_selection import KFold, train_test_split as tts\n",
        "from sklearn.metrics import mean_squared_error as mse\n",
        "from sklearn.preprocessing import StandardScaler\n",
        "# next step: finish these imports"
      ],
      "metadata": {
        "id": "KE5OZQbvAfhD"
      },
      "execution_count": 1,
      "outputs": []
    },
    {
      "cell_type": "markdown",
      "source": [
        "The follow function contains the core of our boosted algorithm. It takes two regression methods and data as input, and outputs predicted $y$ values on some test inputs."
      ],
      "metadata": {
        "id": "U10rzGi7oBSy"
      }
    },
    {
      "cell_type": "code",
      "execution_count": 29,
      "metadata": {
        "id": "GHMt0hgImwTh"
      },
      "outputs": [],
      "source": [
        "def boosting(f, h, Xtrain, ytrain, Xtest):\n",
        "  modelf = f(Xtrain, ytrain, Xtest)\n",
        "  ypred_temp = modelf.predict(Xtrain)\n",
        "  ypred_temp = ypred_temp.flatten()\n",
        "  res = np.subtract(ytrain, ypred_temp)\n",
        "\n",
        "  modelh = h(Xtrain, res, Xtest)\n",
        "  ypred_res = modelh.predict(Xtrain)\n",
        "  ypred_res = ypred_res.flatten()\n",
        "  ypred = modelf.predict(Xtest).flatten() + modelh.predict(Xtest).flatten()\n",
        "  #ypred = ypred_temp + ypred_res\n",
        "  print(\"f: \", modelf.predict(Xtest).flatten())\n",
        "  print(\"h: \", modelh.predict(Xtest).flatten())\n",
        "  return ypred.flatten()"
      ]
    },
    {
      "cell_type": "markdown",
      "source": [
        "The following are the simple functions for training each of our three potential models."
      ],
      "metadata": {
        "id": "VneBSfBMnUnl"
      }
    },
    {
      "cell_type": "code",
      "source": [
        "def OLS(Xtrain, ytrain, Xtest):\n",
        "  lin_reg = LinearRegression().fit(Xtrain, ytrain)\n",
        "  #if returns == train:\n",
        "    #ypred = lin_reg.predict(Xtrain)\n",
        "  #else:\n",
        "    #ypred = lin_reg.predict(Xtest)\n",
        "  return lin_reg"
      ],
      "metadata": {
        "id": "13KLc-Q1nb7X"
      },
      "execution_count": 11,
      "outputs": []
    },
    {
      "cell_type": "code",
      "source": [
        "def RF(Xtrain, ytrain, Xtest):\n",
        "  model = RandomForestRegressor(n_estimators=100,max_depth=10)\n",
        "  model.fit(Xtrain, ytrain)\n",
        "  #if returns == train:\n",
        "    #ypred = model.predict(Xtrain)\n",
        "  #else:\n",
        "    #ypred = model.predict(Xtest)\n",
        "  return model"
      ],
      "metadata": {
        "id": "4X8IejRXv8Ns"
      },
      "execution_count": 12,
      "outputs": []
    },
    {
      "cell_type": "code",
      "source": [
        "def NN(Xtrain, ytrain, Xtest):\n",
        "  model = Sequential()\n",
        "  model.add(Dense(64, activation=\"relu\", input_dim=8))\n",
        "  model.add(Dense(64, activation=\"relu\"))\n",
        "  model.add(Dense(64, activation=\"relu\"))\n",
        "  model.add(Dense(1, activation=\"linear\"))\n",
        "  model.compile(loss='mean_squared_error', optimizer=Adam(learning_rate=1e-2))\n",
        "\n",
        "  model.fit(Xtrain,ytrain,validation_split=0.2, epochs=100, batch_size=100, verbose=0)\n",
        "  #if returns == train:\n",
        "    #ypred = model.predict(Xtrain)\n",
        "  #else:\n",
        "    #ypred = model.predict(Xtest)\n",
        "  return model"
      ],
      "metadata": {
        "id": "fejR06YewoUs"
      },
      "execution_count": 13,
      "outputs": []
    },
    {
      "cell_type": "markdown",
      "source": [
        "The following function will use our boost algorithm, standardize the data, and return a mean squared error for the test data."
      ],
      "metadata": {
        "id": "Cm9g580PonSS"
      }
    },
    {
      "cell_type": "code",
      "source": [
        "def get_mse(f, h, Xtrain, ytrain, Xtest, ytest):\n",
        "  # Standardize all data; it will make comparison easier, and won't make any model worse.\n",
        "  scale = StandardScaler()\n",
        "  Xtrain = scale.fit_transform(Xtrain)\n",
        "  Xtest = scale.transform(Xtest)\n",
        "  ypred = boosting(f, h, Xtrain, ytrain, Xtest)\n",
        "  #print(\"The mean squared error for a base\",\n",
        "        #str(f)[10:13],\n",
        "        #\"function boosted by a\",\n",
        "        #str(h)[10:13],\n",
        "        #\"function is\",\n",
        "        #mse(ytrain, ypred))\n",
        "  return mse(ytest, ypred)"
      ],
      "metadata": {
        "id": "QMH88eNd66Jh"
      },
      "execution_count": 15,
      "outputs": []
    },
    {
      "cell_type": "markdown",
      "source": [
        "# Application of Boosted Algorithm\n",
        "\n",
        "We will test our methods on a concrete strength data set. For each permutation of base function $f$ and booster function $h$, we will compute a 10-fold cross validated MSE. "
      ],
      "metadata": {
        "id": "o59ScKyZo_xW"
      }
    },
    {
      "cell_type": "code",
      "source": [
        "data = pd.read_csv('/concrete.csv')\n",
        "y = data['strength'].values\n",
        "X = data.drop(columns = 'strength').values"
      ],
      "metadata": {
        "id": "3YuGHDTgDAP7"
      },
      "execution_count": 8,
      "outputs": []
    },
    {
      "cell_type": "code",
      "source": [
        "def kfold_mse(f, h, X, y):\n",
        "  kf = KFold(n_splits=10,shuffle=True,random_state=4)\n",
        "  mselist = []\n",
        "  for idxtrain, idxtest in kf.split(X):\n",
        "      Xtrain = X[idxtrain]\n",
        "      ytrain = y[idxtrain]\n",
        "      ytest = y[idxtest]\n",
        "      Xtest = X[idxtest]\n",
        "      mselist.append(get_mse(f, h, Xtrain, ytrain, Xtest, ytest))\n",
        "  print(\"The mean squared error for a base\",\n",
        "        str(f)[10:13],\n",
        "        \"function boosted by a\",\n",
        "        str(h)[10:13],\n",
        "        \"function is\",\n",
        "        np.mean(mselist))\n",
        "  return np.mean(mselist)"
      ],
      "metadata": {
        "id": "jGLzkzuuT0Ta"
      },
      "execution_count": 9,
      "outputs": []
    },
    {
      "cell_type": "code",
      "source": [
        "kfolds = []\n",
        "kfolds.append(kfold_mse(OLS, OLS, X, y))\n",
        "kfolds.append(kfold_mse(OLS, NN, X, y))\n",
        "kfolds.append(kfold_mse(OLS, RF, X, y))\n",
        "kfolds.append(kfold_mse(NN, OLS, X, y))\n",
        "kfolds.append(kfold_mse(NN, NN, X, y))\n",
        "kfolds.append(kfold_mse(NN, RF, X, y))\n",
        "kfolds.append(kfold_mse(RF, OLS, X, y))\n",
        "kfolds.append(kfold_mse(RF, NN, X, y))\n",
        "kfolds.append(kfold_mse(RF, RF, X, y))"
      ],
      "metadata": {
        "id": "gaxgZ3IVT0yZ"
      },
      "execution_count": null,
      "outputs": []
    },
    {
      "cell_type": "code",
      "source": [
        "kfolds = np.asarray(kfolds).reshape(3,3)"
      ],
      "metadata": {
        "id": "25YNzVDJ5Yvh"
      },
      "execution_count": 31,
      "outputs": []
    },
    {
      "cell_type": "code",
      "source": [
        "import matplotlib.pyplot as plt"
      ],
      "metadata": {
        "id": "6Mv5Uks3UaHL"
      },
      "execution_count": 32,
      "outputs": []
    },
    {
      "cell_type": "markdown",
      "source": [
        "# Results"
      ],
      "metadata": {
        "id": "xeLVgfPy0Yh7"
      }
    },
    {
      "cell_type": "code",
      "source": [
        "fig, ax = plt.subplots()\n",
        "im = ax.imshow(kfolds, cmap='GnBu')\n",
        "ax.set_title(\"MSE for Boosted Algorithms\")\n",
        "models = ['OLS', 'RF', 'NN']\n",
        "\n",
        "ax.set_xticks(np.arange(len(models)))\n",
        "ax.set_xticklabels(models)\n",
        "ax.set_yticks(np.arange(len(models)))\n",
        "ax.set_yticklabels(models)\n",
        "ax.set_xlabel(\"Base Function\")\n",
        "ax.set_ylabel(\"Booster Function\")\n",
        "\n",
        "plt.colorbar(im)\n",
        "\n",
        "plt.setp(ax.get_xticklabels(), rotation=45, ha=\"right\",\n",
        "         rotation_mode=\"anchor\")\n",
        "\n",
        "for i in range(3):\n",
        "    for j in range(3):\n",
        "        text = ax.text(j, i, round(kfolds[i, j], 2),\n",
        "                       ha=\"center\", va=\"center\", color=\"black\")\n",
        "fig.tight_layout()\n",
        "plt.show()"
      ],
      "metadata": {
        "colab": {
          "base_uri": "https://localhost:8080/",
          "height": 297
        },
        "id": "Jl71R1IyVIhm",
        "outputId": "f341118e-8acc-4d75-ac30-80239ce7afea"
      },
      "execution_count": 33,
      "outputs": [
        {
          "output_type": "display_data",
          "data": {
            "image/png": "[encoded data removed]",
            "text/plain": [
              "<Figure size 432x288 with 2 Axes>"
            ]
          },
          "metadata": {
            "needs_background": "light"
          }
        }
      ]
    },
    {
      "cell_type": "markdown",
      "source": [
        "As shown in the figure above, there is great variance in the MSE's of the various boosted regression algorithms tested. An OLS-OLS model was by far the least effective. This makes sense, as OLS does not benefit from the booster; the model of residuals is negligible due to the nature of the regression method. Of the remaining algorithms, the biggest factor in efficacy seems to be the presence of a neural network, especially as a booster. This algorithm's ability to deal with erratic relationships, such as those in residual data, may contribute to this. The most effective algorithm, albeit marginally, was the NN-NN algorithm. This surprised me; I expected to see a combination of algorithms to compliment themselves stronger than any which was used for both $f$ and $h$. The simplest conclusion is that NN are very effective with the data we are working with."
      ],
      "metadata": {
        "id": "og_Jj3DA0hT1"
      }
    },
    {
      "cell_type": "markdown",
      "source": [
        "# LightGBM"
      ],
      "metadata": {
        "id": "MIYV1-FmG5ai"
      }
    },
    {
      "cell_type": "markdown",
      "source": [
        "LightGBM, like XGBoost which was covered in the previous assignment, is an algorithm which uses RF as a base function and boosted function. However, it uses some novel methods to selectively reduce runtime without sacrificing accuracy. The first of which, *Gradient Based One-Side Sampling*, trains the $h$ model solely on higher magnitude residuals. This permits fewer operations in designing the residual model, while not losing much information from negligible data points.\n",
        "\n",
        "The second method is *Exclusive Feature Bundling*. This takes features which rarely have non-zero values for the same observation and combines them to reduce the number of trivial operations necessary for calculation. In the case of our data, the *superplastic* and *ash* variables are sparse enough that the algorithm likely combined them.\n",
        "\n",
        "We will apply this algorithm to our concrete strength data to compare it to the algorithms we have already developed."
      ],
      "metadata": {
        "id": "qwYgAbgj2pdy"
      }
    },
    {
      "cell_type": "code",
      "source": [
        "!pip install lightgbm"
      ],
      "metadata": {
        "colab": {
          "base_uri": "https://localhost:8080/"
        },
        "id": "anvLqfnHDd7b",
        "outputId": "12924cb5-dd9f-49da-e66c-583a5362be75"
      },
      "execution_count": null,
      "outputs": [
        {
          "output_type": "stream",
          "name": "stdout",
          "text": [
            "Requirement already satisfied: lightgbm in /usr/local/lib/python3.7/dist-packages (2.2.3)\n",
            "Requirement already satisfied: scipy in /usr/local/lib/python3.7/dist-packages (from lightgbm) (1.4.1)\n",
            "Requirement already satisfied: scikit-learn in /usr/local/lib/python3.7/dist-packages (from lightgbm) (1.0.2)\n",
            "Requirement already satisfied: numpy in /usr/local/lib/python3.7/dist-packages (from lightgbm) (1.21.5)\n",
            "Requirement already satisfied: joblib>=0.11 in /usr/local/lib/python3.7/dist-packages (from scikit-learn->lightgbm) (1.1.0)\n",
            "Requirement already satisfied: threadpoolctl>=2.0.0 in /usr/local/lib/python3.7/dist-packages (from scikit-learn->lightgbm) (3.1.0)\n"
          ]
        }
      ]
    },
    {
      "cell_type": "code",
      "source": [
        "import lightgbm as lgb"
      ],
      "metadata": {
        "id": "DPJJm5LYHAGS"
      },
      "execution_count": null,
      "outputs": []
    },
    {
      "cell_type": "code",
      "source": [
        "def get_mse_lgb(Xtest, ytest, Xtrain, ytrain):\n",
        "  trainLGB = lgb.Dataset(Xtrain, ytrain)\n",
        "  testLGB = lgb.Dataset(Xtest, ytest)\n",
        "\n",
        "  param = {'num_leaves': 10, 'objective': 'mse'}\n",
        "  param['metric'] = 'mse'\n",
        "\n",
        "  model = lgb.train(param, trainLGB)\n",
        "  ypred = model.predict(Xtest, num_iteration=model.best_iteration)\n",
        "  return mse(ytest, ypred)"
      ],
      "metadata": {
        "id": "F5CQveDWTNiD"
      },
      "execution_count": null,
      "outputs": []
    },
    {
      "cell_type": "code",
      "source": [
        "def kfold_mse_lgb(X, y):\n",
        "  kf = KFold(n_splits=10,shuffle=True,random_state=4)\n",
        "  mselist = []\n",
        "  for idxtrain, idxtest in kf.split(X):\n",
        "      Xtrain = X[idxtrain]\n",
        "      ytrain = y[idxtrain]\n",
        "      ytest = y[idxtest]\n",
        "      Xtest = X[idxtest]\n",
        "      mselist.append(get_mse_lgb(Xtrain, ytrain, Xtest, ytest))\n",
        "  print(\"The mean squared error for the LGB function is\",\n",
        "        np.mean(mselist))\n",
        "  return np.mean(mselist)"
      ],
      "metadata": {
        "id": "M9htq-DwTLxx"
      },
      "execution_count": null,
      "outputs": []
    },
    {
      "cell_type": "code",
      "source": [
        "kfold_mse_lgb(X, y)"
      ],
      "metadata": {
        "colab": {
          "base_uri": "https://localhost:8080/"
        },
        "id": "uHL_uVqlW1TU",
        "outputId": "72194188-0cdb-4e81-b08b-69858f7f66fc"
      },
      "execution_count": null,
      "outputs": [
        {
          "output_type": "stream",
          "name": "stdout",
          "text": [
            "The mean squared error for the LGB function is 64.15496940027298\n"
          ]
        },
        {
          "output_type": "execute_result",
          "data": {
            "text/plain": [
              "64.15496940027298"
            ]
          },
          "metadata": {},
          "execution_count": 59
        }
      ]
    },
    {
      "cell_type": "markdown",
      "source": [
        "64.15 is not as good as most of our algorithms. In fact, it is not even as good as the RF-RF model, which is the closest comparison of those tested. However, the advantages of the algorithm are not in its accuracy, but rather its speed. For a dataset larger than ours, it is likely the advantages of LightGBM would outweigh its drawbacks."
      ],
      "metadata": {
        "id": "71rDxo2Ba9A8"
      }
    },
    {
      "cell_type": "code",
      "source": [
        ""
      ],
      "metadata": {
        "id": "clH09BhKaOBO"
      },
      "execution_count": null,
      "outputs": []
    }
  ]
}